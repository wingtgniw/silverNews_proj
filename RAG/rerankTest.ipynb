{
 "cells": [
  {
   "cell_type": "code",
   "execution_count": 6,
   "id": "fd09b7d2",
   "metadata": {},
   "outputs": [
    {
     "name": "stdout",
     "output_type": "stream",
     "text": [
      "789\n"
     ]
    }
   ],
   "source": [
    "from langchain_community.document_loaders import PyPDFLoader\n",
    "from langchain_text_splitters import RecursiveCharacterTextSplitter\n",
    "from langchain_openai import ChatOpenAI, OpenAIEmbeddings\n",
    "from langchain_community.vectorstores import FAISS\n",
    "from langchain.retrievers import ContextualCompressionRetriever\n",
    "from langchain_cohere import CohereRerank\n",
    "from langchain.chains import RetrievalQA\n",
    "\n",
    "pdfLoad = PyPDFLoader('med_data_all.pdf')\n",
    "documents = pdfLoad.load()\n",
    "\n",
    "txt_split = RecursiveCharacterTextSplitter(chunk_size=500, chunk_overlap=20)\n",
    "docs = txt_split.split_documents(documents)\n",
    "print(len(docs))\n",
    "\n",
    "embedding = OpenAIEmbeddings(model='text-embedding-ada-002')\n",
    "vdb = FAISS.from_documents(docs, embedding)\n",
    "base_retriever = vdb.as_retriever(search_kwargs={\"k\": 10})\n",
    "\n",
    "reranker = CohereRerank(\n",
    "    model=\"rerank-multilingual-v3.0\",  \n",
    "    top_n=5  # 최종 문서 5개만 선택 (원하는 수로 조정 가능)\n",
    ")\n",
    "\n",
    "retriever = ContextualCompressionRetriever(\n",
    "    base_compressor=reranker,\n",
    "    base_retriever=base_retriever,\n",
    ")\n",
    "\n",
    "gpt = ChatOpenAI(model='gpt-3.5-turbo', temperature=0)\n",
    "\n",
    "qa = RetrievalQA.from_chain_type(\n",
    "    llm=gpt,\n",
    "    chain_type='stuff',\n",
    "    retriever=retriever,\n",
    ")"
   ]
  },
  {
   "cell_type": "code",
   "execution_count": null,
   "id": "850f468e",
   "metadata": {},
   "outputs": [],
   "source": [
    "query = \"고혈압 치료 방법\"\n",
    "result = qa.invoke({'query': query})\n",
    "print(result)\n",
    "print(result['result'])"
   ]
  },
  {
   "cell_type": "code",
   "execution_count": 8,
   "id": "aa0ca24c",
   "metadata": {},
   "outputs": [
    {
     "name": "stderr",
     "output_type": "stream",
     "text": [
      "<>:1: SyntaxWarning: invalid escape sequence '\\w'\n",
      "<>:1: SyntaxWarning: invalid escape sequence '\\w'\n",
      "C:\\Users\\김태원\\AppData\\Local\\Temp\\ipykernel_20252\\3751528276.py:1: SyntaxWarning: invalid escape sequence '\\w'\n",
      "  with open('C:\\workspace\\silverNews\\saved_articles\\Hypertension_1_20250521.txt', 'r', encoding='utf-8') as f:\n"
     ]
    },
    {
     "name": "stdout",
     "output_type": "stream",
     "text": [
      "리랭킹된 결과 수: 5\n",
      "\n",
      "=== 유사도 점수 ===\n",
      "problems such as stroke, heart failure, heart attack, and kidney disease. What lifestyle \n",
      "changes can help lower high blood pressure? Healthy lifestyle changes can help reduce \n",
      "high blood pressure, losing weight, being physically active, managing stress, reducing \n",
      "sodium in your diet, avoiding alcohol, tobacco, and illegal drugs, getting enough sleep. \n",
      "What if lifestyle changes alone cannot lower blood pressure? Sometimes lifestyle changes\n",
      "{'producer': 'Microsoft® Word 2019', 'creator': 'Microsoft® Word 2019', 'creationdate': '2025-05-14T15:44:39+09:00', 'author': 'Nitrosoft', 'moddate': '2025-05-14T15:44:39+09:00', 'source': 'med_data_all.pdf', 'total_pages': 126, 'page': 97, 'page_label': '98', 'relevance_score': 0.008412978}\n",
      "----------------------------------------------------------------------------------------------------\n",
      "Other problems include heartburn, cancer, and eosinophilic esophagitis. Doctors may use \n",
      "various tests to make a diagnosis. These include imaging tests, an upper endoscopy, and \n",
      "a biopsy. Treatment depends on the problem. Some problems get better with over-the-\n",
      "counter medicines or changes in diet. Others may need prescription medicines or \n",
      "surgery. NIH: National Institute of Diabetes and Digestive and Kidney Diseases. \n",
      " \n",
      "Falls\n",
      "{'producer': 'Microsoft® Word 2019', 'creator': 'Microsoft® Word 2019', 'creationdate': '2025-05-14T15:44:39+09:00', 'author': 'Nitrosoft', 'moddate': '2025-05-14T15:44:39+09:00', 'source': 'med_data_all.pdf', 'total_pages': 126, 'page': 76, 'page_label': '77', 'relevance_score': 0.008283626}\n",
      "----------------------------------------------------------------------------------------------------\n",
      "high blood pressure losing weight, being physically active, managing stress, reducing \n",
      "sodium in your diet, avoiding alcohol, tobacco, and illegal drugs, getting enough sleep. \n",
      "What if lifestyle changes alone cannot lower blood pressure? Sometimes lifestyle changes \n",
      "alone cannot control or lower your high blood pressure. In that case, your health care \n",
      "provider may prescribe blood pressure medicines. How do blood pressure medicines\n",
      "{'producer': 'Microsoft® Word 2019', 'creator': 'Microsoft® Word 2019', 'creationdate': '2025-05-14T15:44:39+09:00', 'author': 'Nitrosoft', 'moddate': '2025-05-14T15:44:39+09:00', 'source': 'med_data_all.pdf', 'total_pages': 126, 'page': 70, 'page_label': '71', 'relevance_score': 0.008187911}\n",
      "----------------------------------------------------------------------------------------------------\n",
      "high blood pressure, losing weight, being physically active managing stress, reducing \n",
      "sodium in your diet, avoiding alcohol, tobacco, and illegal drugs, getting enough sleep. \n",
      "What if lifestyle changes alone cannot lower blood pressure? Sometimes lifestyle changes \n",
      "alone cannot control or lower your high blood pressure. In that case, your health care \n",
      "provider may prescribe blood pressure medicines. How do blood pressure medicines\n",
      "{'producer': 'Microsoft® Word 2019', 'creator': 'Microsoft® Word 2019', 'creationdate': '2025-05-14T15:44:39+09:00', 'author': 'Nitrosoft', 'moddate': '2025-05-14T15:44:39+09:00', 'source': 'med_data_all.pdf', 'total_pages': 126, 'page': 63, 'page_label': '64', 'relevance_score': 0.008156248}\n",
      "----------------------------------------------------------------------------------------------------\n",
      "Drugs & Supplements \n",
      "What is high blood pressure? High blood pressure, also called hypertension, is when \n",
      "blood puts too much pressure against the walls of your arteries. Almost half of American \n",
      "adults have high blood pressure, usually with no symptoms. But it can cause serious \n",
      "problems such as stroke, heart failure, heart attack, and kidney disease. What lifestyle \n",
      "changes can help lower high blood pressure? Healthy lifestyle changes can help reduce\n",
      "{'producer': 'Microsoft® Word 2019', 'creator': 'Microsoft® Word 2019', 'creationdate': '2025-05-14T15:44:39+09:00', 'author': 'Nitrosoft', 'moddate': '2025-05-14T15:44:39+09:00', 'source': 'med_data_all.pdf', 'total_pages': 126, 'page': 70, 'page_label': '71', 'relevance_score': 0.007937994}\n",
      "----------------------------------------------------------------------------------------------------\n"
     ]
    }
   ],
   "source": [
    "with open('C:\\workspace\\silverNews\\saved_articles\\Hypertension_1_20250521.txt', 'r', encoding='utf-8') as f:\n",
    "    article = f.read()\n",
    "\n",
    "# print(article)\n",
    "\n",
    "# 유사도 확인을 위한 쿼리 예시\n",
    "query = f\"너는 30년 경력의 의사야. 기사를 요약해줘. 기사: {article}\"\n",
    "\n",
    "# result = qa.invoke({'query': query})\n",
    "# print(result)\n",
    "\n",
    "# 기본 검색 결과\n",
    "# base_results = base_retriever.get_relevant_documents(query)\n",
    "# print(\"기본 검색 결과 수:\", len(base_results))\n",
    "\n",
    "# 리랭킹된 결과\n",
    "reranked_results = retriever.get_relevant_documents(query)\n",
    "print(\"리랭킹된 결과 수:\", len(reranked_results))\n",
    "\n",
    "# 결과 비교\n",
    "# print(\"\\n=== 기본 검색 결과 ===\")\n",
    "# for i, doc in enumerate(base_results):\n",
    "#     print(f\"\\n문서 {i+1}:\")\n",
    "#     print(f\"내용: {doc.page_content[:200]}...\")\n",
    "#     print(f\"메타데이터: {doc.metadata}\")\n",
    "\n",
    "# print(\"\\n=== 리랭킹된 결과 ===\")\n",
    "# for i, doc in enumerate(reranked_results):\n",
    "#     print(f\"\\n문서 {i+1}:\")\n",
    "#     print(f\"내용: {doc.page_content[:200]}...\")\n",
    "#     print(f\"메타데이터: {doc.metadata}\")\n",
    "\n",
    "# 유사도 점수 확인\n",
    "print(\"\\n=== 유사도 점수 ===\")\n",
    "for i, doc in enumerate(reranked_results):\n",
    "    print(doc.page_content)\n",
    "    print(doc.metadata)\n",
    "    print('-'*100)\n",
    "    if hasattr(doc, 'score'):\n",
    "        print(f\"문서 {i+1} 유사도 점수: {doc.score}\")"
   ]
  },
  {
   "cell_type": "markdown",
   "id": "09159965",
   "metadata": {},
   "source": [
    "OpenAI의 text-embedding-ada-002 모델 특성\n",
    "-----------------------------------------------------\n",
    "text-embedding-ada-002는 단순한 영어 전용이 아니라,\n",
    "한국어, 영어, 일본어, 중국어 등 다양한 언어를\n",
    "\"공통된 의미 공간(shared semantic space)\" 안에서 임베딩한다\n",
    "\n",
    "\n",
    "\"The Adventures of Tom Sawyer\"라는 영어 텍스트를 임베딩하면,\n",
    "그것이 가진 의미(semantics) 가 벡터로 표현됨.\n",
    "그리고 한글 질문 \"줄거리 요약해줘\"도 벡터로 임베딩할 때\n",
    "그 의미가 비슷한 벡터로 변환됨.\n",
    "\n",
    "결국\n",
    "\"의미가 비슷하면 언어가 달라도 벡터가 가까워진다\" 는 것.\n"
   ]
  }
 ],
 "metadata": {
  "kernelspec": {
   "display_name": "venv",
   "language": "python",
   "name": "python3"
  },
  "language_info": {
   "codemirror_mode": {
    "name": "ipython",
    "version": 3
   },
   "file_extension": ".py",
   "mimetype": "text/x-python",
   "name": "python",
   "nbconvert_exporter": "python",
   "pygments_lexer": "ipython3",
   "version": "3.12.0"
  }
 },
 "nbformat": 4,
 "nbformat_minor": 5
}
