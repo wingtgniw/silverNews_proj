{
 "cells": [
  {
   "cell_type": "code",
   "execution_count": 1,
   "id": "fd09b7d2",
   "metadata": {},
   "outputs": [
    {
     "name": "stderr",
     "output_type": "stream",
     "text": [
      "libmagic is unavailable but assists in filetype detection. Please consider installing libmagic for better results.\n",
      "libmagic is unavailable but assists in filetype detection. Please consider installing libmagic for better results.\n",
      "libmagic is unavailable but assists in filetype detection. Please consider installing libmagic for better results.\n",
      "libmagic is unavailable but assists in filetype detection. Please consider installing libmagic for better results.\n",
      "libmagic is unavailable but assists in filetype detection. Please consider installing libmagic for better results.\n"
     ]
    },
    {
     "name": "stdout",
     "output_type": "stream",
     "text": [
      "789\n"
     ]
    }
   ],
   "source": [
    "from langchain_community.document_loaders import PyPDFLoader, DirectoryLoader\n",
    "from langchain_text_splitters import RecursiveCharacterTextSplitter\n",
    "from langchain_openai import ChatOpenAI, OpenAIEmbeddings\n",
    "from langchain_community.vectorstores import FAISS\n",
    "from langchain.retrievers import ContextualCompressionRetriever\n",
    "from langchain_cohere import CohereRerank\n",
    "from langchain.chains import RetrievalQA\n",
    "\n",
    "\n",
    "txt_split = RecursiveCharacterTextSplitter(chunk_size=500, chunk_overlap=20)\n",
    "\n",
    "txt_documents = DirectoryLoader(\"./saved_articles\", glob=\"*.txt\").load()\n",
    "txt_docs = txt_split.split_documents(txt_documents)\n",
    "\n",
    "documents = PyPDFLoader('./RAG/med_data_all.pdf').load()\n",
    "pdf_docs = txt_split.split_documents(documents)\n",
    "\n",
    "docs = pdf_docs# + txt_docs\n",
    "print(len(docs))\n",
    "\n",
    "embedding = OpenAIEmbeddings(model='text-embedding-ada-002')\n",
    "vdb = FAISS.from_documents(docs, embedding)\n",
    "base_retriever = vdb.as_retriever(search_kwargs={\"k\": 10})\n",
    "\n",
    "reranker = CohereRerank(\n",
    "    model=\"rerank-multilingual-v3.0\",  \n",
    "    top_n=5  # 최종 문서 5개만 선택 (원하는 수로 조정 가능)\n",
    ")\n",
    "\n",
    "retriever = ContextualCompressionRetriever(\n",
    "    base_compressor=reranker,\n",
    "    base_retriever=base_retriever,\n",
    ")\n",
    "\n",
    "gpt = ChatOpenAI(model='gpt-3.5-turbo', temperature=0)\n",
    "\n",
    "qa = RetrievalQA.from_chain_type(\n",
    "    llm=gpt,\n",
    "    chain_type='stuff',\n",
    "    retriever=retriever,\n",
    ")"
   ]
  },
  {
   "cell_type": "code",
   "execution_count": 2,
   "id": "14ff550c",
   "metadata": {},
   "outputs": [
    {
     "name": "stdout",
     "output_type": "stream",
     "text": [
      "789\n",
      "content='chronic medical conditions, high blood pressure, hypertension, diabetes, early detection, treatment, medications, lifestyle changes, cardiovascular disease, kidney disease, stroke, dementia, blood pressure cuff, A1C test, insulin, obesity, physical activity, healthy diet, preventive measures.' additional_kwargs={'refusal': None} response_metadata={'token_usage': {'completion_tokens': 55, 'prompt_tokens': 1592, 'total_tokens': 1647, 'completion_tokens_details': {'accepted_prediction_tokens': 0, 'audio_tokens': 0, 'reasoning_tokens': 0, 'rejected_prediction_tokens': 0}, 'prompt_tokens_details': {'audio_tokens': 0, 'cached_tokens': 0}}, 'model_name': 'gpt-3.5-turbo-0125', 'system_fingerprint': None, 'id': 'chatcmpl-BZuRuI19jRsz5L6JuDOF7R5OvRBxQ', 'service_tier': 'default', 'finish_reason': 'stop', 'logprobs': None} id='run--3d7bf402-a9c8-46aa-a48f-6a306e3fe533-0' usage_metadata={'input_tokens': 1592, 'output_tokens': 55, 'total_tokens': 1647, 'input_token_details': {'audio': 0, 'cache_read': 0}, 'output_token_details': {'audio': 0, 'reasoning': 0}}\n"
     ]
    }
   ],
   "source": [
    "from generator import NewsletterGenerator\n",
    "from RAG import reranker_qa\n",
    "\n",
    "generator = NewsletterGenerator(reranker_qa)\n",
    "\n",
    "with open('./saved_articles/cnn_Hypertension_1_20250521.txt', 'r', encoding='utf-8') as f:\n",
    "    article = f.read()\n",
    "\n",
    "# article = \"\"\"Cutting 1 teaspoon of salt from your diet each day can lower your top blood pressure reading just as much as a typical hypertension medication, even if you don't have high blood pressure, a new study found.\n",
    "\n",
    "# A teaspoon of salt is 2,300 milligrams — that's the top daily limit for people over 14 recommended by the latest US nutritional guidelines. However, the American Heart Association recommends a diet with less than 1,500 milligrams of sodium a day.\n",
    "\n",
    "# Woman At Home Adding Salt To Meal\n",
    "# 'Massive efforts' are needed to reduce salt intake and protect lives, World Health Organization says\n",
    "\n",
    "# 'This is the first study to show that people who are already on blood pressure medication can lower their blood pressure even more by limiting sodium,” said coprincipal investigator Norrina Allen, professor of preventive medicine at Northwestern University's Feinberg School of Medicine.\n",
    "\n",
    "# 'And regardless of medication, we found 70% to 75% of people are likely to see a reduction in their blood pressure if they lower the sodium in their diet,” Allen said.\n",
    "\n",
    "# High blood pressure is often called the 'silent killer,' because there are no symptoms — the only way to know if you have it is to test for it. Yet hypertension affects 1 in 3 adults worldwide and can lead to heart attack, heart failure, kidney damage and stroke, according to a 2023 report by the World Health Organization.\n",
    "\n",
    "# (add caption)\n",
    "# One way to cut a teaspoon of salt from your diet is by reading labels since many foods have added salt, experts say. Wirestock/iStockphoto/Getty Images\n",
    "# Nearly half of all Americans live with high blood pressure, according to the American Heart Association. About a third of those have “resistant” hypertension, high blood pressure that has not responded despite the concurrent use of three types of medications. A 2021 study found men ages 20 to 49 are up to 70% more likely to have uncontrolled hypertension than women of the same age.\"\"\"\n",
    "\n",
    "result = generator.generate_newsletter_from_articles(article)"
   ]
  },
  {
   "cell_type": "code",
   "execution_count": 3,
   "id": "e5639ffe",
   "metadata": {},
   "outputs": [
    {
     "data": {
      "text/plain": [
       "{'articles': 'It’s a new year and time for many people to make their health-related resolutions. According to my go-to doctor expert, one of your resolutions should be to find out if you have any chronic medical conditions and address them before symptoms begin.\\n\\nThis approach, of course, is the case for diagnosing cancer, and early detection can help save lives. But people often let other conditions such as high blood pressure and diabetes go for a long time without adequate treatment.\\n\\nMore than 77% of the 119.9 million Americans with hypertension do not have their blood pressure under control, according to the US government’s Million Hearts initiative.\\n\\nMore than 50% of people 30 and older living with diabetes did not take medications for their diabetes in 2022, according to the World Health Organization. Many may not even be aware that they have diabetes; in the United States, the American Diabetes Association estimated in 2021 that of the 38.4 million people who have diabetes, 8.7 million were undiagnosed.\\n\\nHow common are chronic conditions such as hypertension and diabetes? How do doctors diagnose them? Why is it important to identify these conditions and to begin treatment, even if you don’t have any symptoms? What types of treatments, including medications and lifestyle changes, should people consider? And for those who don’t have these conditions, what actions can help prevent them?\\n\\nTo guide us through these questions, I spoke with CNN wellness expert Dr. Leana Wen. Wen is an emergency physician and adjunct associate professor at George Washington University. She previously was Baltimore’s health commissioner.\\n\\nCNN: How common are hypertension and diabetes?\\n\\nDr. Leana Wen: These chronic conditions are very common. In the United States, nearly half of American adults have high blood pressure, also known as hypertension, which is generally defined as blood pressure at or above 130/80 mmHg. More than 1 in 10 Americans have diabetes, and the proportion increases with age; among those 65 and older, about 29% have diabetes.\\n\\nCNN: Why is it important to diagnose these conditions and to start treatment, even if people have no symptoms?\\n\\nWen: Both diabetes and hypertension are major contributing factors to heart disease and stroke, which both fall into the category of cardiovascular disease, the No. 1 killer among Americans, according to the US Centers for Disease Control and Prevention, and a leading cause of deaths worldwide.\\n\\nHypertension is frequently referred to as the “silent killer” because it can cause significant lasting damage before people experience symptoms. High blood pressure affects multiple organs. Not only can hypertension add stress to the heart and damage arteries, leading to heart disease, but it also can cause strokes and kidney disease as well as increase the risk of developing dementia. High blood pressure is estimated to cause 7.5 million deaths worldwide each year, according to the World Health Organization.\\n\\nDiabetes exerts a similar kind of long-term toll on the body. According to the CDC, diabetes is the No. 1 cause of kidney failure and adult-onset blindness and one of the top causes of death among Americans. People with diabetes are up to four times more likely to develop heart disease compared with those who do not have the condition.\\n\\nCNN: How are these conditions diagnosed?\\n\\nWen: Doctors diagnose hypertension through readings taken from a blood pressure cuff. If the initial blood pressure measurement is high, health care providers will take another measurement later during that clinic visit or will ask the patient to come in a separate time to confirm that the blood pressure remains elevated.\\n\\nMake sure your blood pressure is measured correctly by keeping your feet flat on the floor with legs uncrossed, having your back supported, wearing the appropriate cuff size and having the appropriate arm position. (The cuff is at heart level, and the arm is supported on a desk or table.)\\n\\nFor diabetes, there are two common types of tests. One measures blood sugar at the moment, while the A1C test looks at average blood sugar over the past few months.\\n\\nIt’s important that everyone schedules annual visits with a primary care provider. Providers will check your blood pressure during your visit. If it’s elevated, they may recommend that you self-monitor or that you return for a repeat check. Blood sugar testing may be recommended, too, depending on your age and risk factors.\\n\\nIf you don’t have a primary care provider, you should be able to get these tests done at a community health or pharmacy clinic. Those able to identify a primary care provider should do so to ensure that they have continued care with a trusted provider.\\n\\nCNN: What are types of treatments that people should consider?\\n\\nWen: Hypertension and diabetes are both chronic conditions that are well-researched and for which there are many effective therapies.\\n\\nFor hypertension, there are several classes of medications that use different mechanisms to lower blood pressure. For example, some medications reduce the heart’s workload, while others help rid the body of excess sodium and water, and still others relax and open blood vessels. Some people respond best to one type of medication. Others may require more than one to best control their blood pressure.\\n\\nFor diabetes, the treatment depends on the type of diabetes, and there are two main types.\\n\\nPeople with type 1 diabetes lack insulin, which is a hormone that helps the body manage glucose levels, also known as blood sugar levels. These people must take insulin every day.\\n\\nIndividuals with type 2 diabetes, the most common form in which there’s a problem with the way the body uses insulin, can usually start with oral medications. These medications may work by lowering glucose production, improving the body’s response to insulin, and/or helping the body secrete more insulin. Some people with type 2 diabetes also need insulin therapy if their blood sugar goals are not met with oral treatments.\\n\\nFor people diagnosed with diabetes or hypertension, lifestyle changes are also important, as is addressing related conditions. For instance, obesity is a major risk factor for developing both hypertension and diabetes. Lifestyle changes that address obesity also will help with lowering blood pressure and reducing the toll of diabetes.\\n\\nCNN: What can be done to prevent these chronic diseases?\\n\\nWen: The same lifestyle changes that people with the diseases should implement are also the best preventive measures for people who want to forestall these diseases.\\n\\nFirst, maintain a healthy weight. People who have difficulty doing so through diet and exercise alone may want to inquire with their health care providers about medications that can treat obesity.\\n\\nSecond, aim for at least 150 minutes of moderate-intensity physical activity a week. Those who cannot yet reach 150 minutes should work to increase duration and intensity, while keeping in mind that some is better than none. Studies have shown that even half of the recommended amount can lower the risk of developing chronic diseases.\\n\\nThird, reduce your consumption of unhealthy foods like saturated fats, ultraprocessed foods and sugary drinks. It may be difficult to cut out these foods altogether, but try to aim for whole foods like vegetables, fruits, whole grains and legumes when possible.\\n\\nMany people can prevent hypertension, diabetes and other chronic ailments by taking these measures. Many others, though, develop the ailments despite working on these lifestyle methods. They should continue these healthy behaviors while also taking treatments as recommended by a health care provider. Doing so can prevent the long-term harm that could come from these conditions.',\n",
       " 'keywords': 'chronic medical conditions, high blood pressure, hypertension, diabetes, early detection, treatment, medications, lifestyle changes, cardiovascular disease, kidney disease, stroke, dementia, blood pressure cuff, A1C test, insulin, obesity, physical activity, healthy diet, preventive measures.',\n",
       " 'summary': '2022년 새해를 맞아 많은 사람들이 건강과 관련된 결의를 내리고 있다. 전문가들에 따르면 만성 질환을 조기에 발견하고 증상이 나타나기 전에 치료하는 것이 중요하다. 고혈압과 당뇨병과 같은 질환은 증상이 나타나기 전에도 오랫동안 방치되는 경우가 많다. 이러한 질환을 진닝하고 치료하는 것은 중요하며, 혈압 측정과 혈당 검사를 통해 이러한 질환을 진닝할 수 있다. 적절한 치료와 생활습관 변화를 통해 이러한 질환을 관리할 수 있으며, 건강한 체중 유지, 적절한 식단 및 운동을 통해 만성 질환을 예방할 수 있다.',\n",
       " 'newsletter': '안녕하세요, 시니어 건강 분야의 뉴스를 작성해온 기자입니다. 새해를 맞아 많은 사람들이 건강과 관련된 결의를 내리고 있다는 기사를 확인했습니다. 전문가들에 따르면 만성 질환을 조기에 발견하고 증상이 나타나기 전에 치료하는 것이 중요하다고 합니다.\\n\\n고혈압과 당뇨병과 같은 만성 질환은 증상이 나타나기 전에도 오랫동안 방치되는 경우가 많습니다. 이러한 질환을 진닝하고 치료하는 것은 중요하며, 혈압 측정과 혈당 검사를 통해 이러한 질환을 진닝할 수 있습니다. 적절한 치료와 생활습관 변화를 통해 이러한 질환을 관리할 수 있으며, 건강한 체중 유지, 적절한 식단 및 운동을 통해 만성 질환을 예방할 수 있습니다.\\n\\n만성 질환인 고혈압과 당뇨병은 매우 흔한 질환으로, 미국에서 거의 절반의 성인이 고혈압을 가지고 있으며, 당뇨병은 10명 중 1명 이상이 발병하고 있습니다. 이러한 질환을 조기에 발견하고 적절한 치료를 시작하는 것이 중요하며, 이를 위해 혈압 측정과 혈당 검사가 필요합니다.\\n\\n고혈압과 당뇨병은 심혈관 질환의 주요 원인이며, 조기 발견과 치료가 중요합니다. 고혈압은 \"침묵의 살인자\"로 불리우며, 증상이 나타나기 전에도 심각한 손상을 일으킬 수 있습니다. 당뇨병도 몸에 장기적인 피해를 줄 수 있습니다. 이러한 만성 질환을 관리하기 위해 적절한 치료와 생활습관 변화가 필요합니다.\\n\\n건강한 체중 유지, 적절한 식단 및 운동은 만성 질환을 예방하는데 중요한 역할을 합니다. 이러한 생활습관을 유지하면 많은 사람들이 고혈압, 당뇨병 및 기타 만성 질환을 예방할 수 있습니다. 만성 질환을 예방하고 관리하기 위해 건강한 생활습관을 유지하는 것이 중요합니다.\\n\\n건강한 새해를 맞이하기 위해 만성 질환을 예방하고 관리하는데 중요한 정보를 제공해드렸습니다. 계속해서 건강에 대한 정보를 제공해드리겠습니다. 감사합니다.',\n",
       " 'newsletter_summary': '2022년 새해를 맞아 건강과 관련된 결의를 내리는 많은 사람들을 위해 만성 질환인 고혈압과 당뇨병의 중요성과 예방 방법에 대해 다룬 뉴스레터를 작성했습니다. 전문가들에 따르면 이러한 질환을 조기에 발견하고 치료하는 것이 중요하며, 혈압 측정과 혈당 검사를 통해 진닝할 수 있습니다. 적절한 치료와 생활습관 변화를 통해 이러한 질환을 관리하고 예방할 수 있습니다. 건강한 체중 유지, 적절한 식단 및 운동은 만성 질환을 예방하는데 중요한 역할을 합니다. 새해를 맞아 건강한 결심을 내리고 만성 질환을 예방하고 관리하는데 도움이 되길 바랍니다. 감사합니다.',\n",
       " 'newsletter_title': '\"건강한 새해, 만성 질환 예방과 관리에 대한 전문가 조언\"'}"
      ]
     },
     "execution_count": 3,
     "metadata": {},
     "output_type": "execute_result"
    }
   ],
   "source": [
    "result"
   ]
  },
  {
   "cell_type": "code",
   "execution_count": 5,
   "id": "f9ed2f16",
   "metadata": {},
   "outputs": [
    {
     "name": "stdout",
     "output_type": "stream",
     "text": [
      "기본 검색 결과 수: 10\n",
      "리랭킹된 결과 수: 5\n",
      "\n",
      "=== 유사도 점수 ===\n",
      "changes that can help eat a healthy diet, limiting salt and sugar, plus eating lots of fruits, \n",
      "vegetables, and whole grains, get vaccinations for hepatitis A and B, the flu and \n",
      "pneumococcal disease. If you get hepatitis A or B along with fatty liver, it is more likely \n",
      "to lead to liver failure. People with chronic liver disease are more likely to get infections, \n",
      "so the other two vaccinations are also important. get regular exercise, which can help\n",
      "{'producer': 'Microsoft® Word 2019', 'creator': 'Microsoft® Word 2019', 'creationdate': '2025-05-14T15:44:39+09:00', 'author': 'Nitrosoft', 'moddate': '2025-05-14T15:44:39+09:00', 'source': './RAG/med_data_all.pdf', 'total_pages': 126, 'page': 79, 'page_label': '80', 'relevance_score': 0.8677098}\n",
      "----------------------------------------------------------------------------------------------------\n",
      "prevent atherosclerosis choose heart-healthy foods, such fruits, vegetables, and whole \n",
      "grains. Limit foods that are high in saturated fats, salt, and added sugars. Do regular \n",
      "physical activity. But before you start an exercise program, ask your provider what level \n",
      "of physical activity is right for you. Aim for a healthy weight. Limit how much alcohol you \n",
      "drink. Drinking less is better for health than drinking more. Men should limit their intake\n",
      "{'producer': 'Microsoft® Word 2019', 'creator': 'Microsoft® Word 2019', 'creationdate': '2025-05-14T15:44:39+09:00', 'author': 'Nitrosoft', 'moddate': '2025-05-14T15:44:39+09:00', 'source': './RAG/med_data_all.pdf', 'total_pages': 126, 'page': 52, 'page_label': '53', 'relevance_score': 0.82893884}\n",
      "----------------------------------------------------------------------------------------------------\n",
      "problems such as stroke, heart failure, heart attack, and kidney disease. What lifestyle \n",
      "changes can help lower high blood pressure? Healthy lifestyle changes can help reduce \n",
      "high blood pressure, losing weight, being physically active, managing stress, reducing \n",
      "sodium in your diet, avoiding alcohol, tobacco, and illegal drugs, getting enough sleep. \n",
      "What if lifestyle changes alone cannot lower blood pressure? Sometimes lifestyle changes\n",
      "{'producer': 'Microsoft® Word 2019', 'creator': 'Microsoft® Word 2019', 'creationdate': '2025-05-14T15:44:39+09:00', 'author': 'Nitrosoft', 'moddate': '2025-05-14T15:44:39+09:00', 'source': './RAG/med_data_all.pdf', 'total_pages': 126, 'page': 97, 'page_label': '98', 'relevance_score': 0.8113773}\n",
      "----------------------------------------------------------------------------------------------------\n",
      "high blood pressure, losing weight, being physically active managing stress, reducing \n",
      "sodium in your diet, avoiding alcohol, tobacco, and illegal drugs, getting enough sleep. \n",
      "What if lifestyle changes alone cannot lower blood pressure? Sometimes lifestyle changes \n",
      "alone cannot control or lower your high blood pressure. In that case, your health care \n",
      "provider may prescribe blood pressure medicines. How do blood pressure medicines\n",
      "{'producer': 'Microsoft® Word 2019', 'creator': 'Microsoft® Word 2019', 'creationdate': '2025-05-14T15:44:39+09:00', 'author': 'Nitrosoft', 'moddate': '2025-05-14T15:44:39+09:00', 'source': './RAG/med_data_all.pdf', 'total_pages': 126, 'page': 63, 'page_label': '64', 'relevance_score': 0.7779754}\n",
      "----------------------------------------------------------------------------------------------------\n",
      "Drugs & Supplements \n",
      "What is high blood pressure? High blood pressure, also called hypertension, is when \n",
      "blood puts too much pressure against the walls of your arteries. Almost half of American \n",
      "adults have high blood pressure, usually with no symptoms. But it can cause serious \n",
      "problems such as stroke, heart failure, heart attack, and kidney disease. What lifestyle \n",
      "changes can help lower high blood pressure? Healthy lifestyle changes can help reduce\n",
      "{'producer': 'Microsoft® Word 2019', 'creator': 'Microsoft® Word 2019', 'creationdate': '2025-05-14T15:44:39+09:00', 'author': 'Nitrosoft', 'moddate': '2025-05-14T15:44:39+09:00', 'source': './RAG/med_data_all.pdf', 'total_pages': 126, 'page': 70, 'page_label': '71', 'relevance_score': 0.7592254}\n",
      "----------------------------------------------------------------------------------------------------\n"
     ]
    }
   ],
   "source": [
    "# 유사도 확인을 위한 쿼리 예시\n",
    "query = result['newsletter_summary']\n",
    "\n",
    "# 기본 검색 결과\n",
    "base_results = base_retriever.get_relevant_documents(query)\n",
    "print(\"기본 검색 결과 수:\", len(base_results))\n",
    "\n",
    "# 리랭킹된 결과\n",
    "reranked_results = retriever.get_relevant_documents(query)\n",
    "print(\"리랭킹된 결과 수:\", len(reranked_results))\n",
    "\n",
    "# 결과 비교\n",
    "# print(\"\\n=== 기본 검색 결과 ===\")\n",
    "# for i, doc in enumerate(base_results):\n",
    "#     print(f\"\\n문서 {i+1}:\")\n",
    "#     print(f\"내용: {doc.page_content[:200]}...\")\n",
    "#     print(f\"메타데이터: {doc.metadata}\")\n",
    "\n",
    "# print(\"\\n=== 리랭킹된 결과 ===\")\n",
    "# for i, doc in enumerate(reranked_results):\n",
    "#     print(f\"\\n문서 {i+1}:\")\n",
    "#     print(f\"내용: {doc.page_content[:200]}...\")\n",
    "#     print(f\"메타데이터: {doc.metadata}\")\n",
    "\n",
    "# 유사도 점수 확인\n",
    "print(\"\\n=== 유사도 점수 ===\")\n",
    "for i, doc in enumerate(reranked_results):\n",
    "    print(doc.page_content)\n",
    "    print(doc.metadata)\n",
    "    print('-'*100)\n",
    "    if hasattr(doc, 'score'):\n",
    "        print(f\"문서 {i+1} 유사도 점수: {doc.score}\")"
   ]
  },
  {
   "cell_type": "markdown",
   "id": "09159965",
   "metadata": {},
   "source": [
    "OpenAI의 text-embedding-ada-002 모델 특성\n",
    "-----------------------------------------------------\n",
    "text-embedding-ada-002는 단순한 영어 전용이 아니라,\n",
    "한국어, 영어, 일본어, 중국어 등 다양한 언어를\n",
    "\"공통된 의미 공간(shared semantic space)\" 안에서 임베딩한다\n",
    "\n",
    "\n",
    "\"The Adventures of Tom Sawyer\"라는 영어 텍스트를 임베딩하면,\n",
    "그것이 가진 의미(semantics) 가 벡터로 표현됨.\n",
    "그리고 한글 질문 \"줄거리 요약해줘\"도 벡터로 임베딩할 때\n",
    "그 의미가 비슷한 벡터로 변환됨.\n",
    "\n",
    "결국\n",
    "\"의미가 비슷하면 언어가 달라도 벡터가 가까워진다\" 는 것.\n"
   ]
  }
 ],
 "metadata": {
  "kernelspec": {
   "display_name": "venv",
   "language": "python",
   "name": "python3"
  },
  "language_info": {
   "codemirror_mode": {
    "name": "ipython",
    "version": 3
   },
   "file_extension": ".py",
   "mimetype": "text/x-python",
   "name": "python",
   "nbconvert_exporter": "python",
   "pygments_lexer": "ipython3",
   "version": "3.11.9"
  }
 },
 "nbformat": 4,
 "nbformat_minor": 5
}
